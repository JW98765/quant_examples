{
 "cells": [
  {
   "cell_type": "markdown",
   "metadata": {},
   "source": [
    "![QuantConnect Logo](https://cdn.quantconnect.com/web/i/logo-small.png)\n",
    "###                  Welcome to The QuantConnect Research Page\n",
    "Refer to this page for documentation https://www.quantconnect.com/docs#Introduction-to-Jupyter\n",
    "\n",
    "Contribute to this template file https://github.com/QuantConnect/Research/tree/master/Notebooks"
   ]
  },
  {
   "cell_type": "markdown",
   "metadata": {
    "collapsed": true
   },
   "source": [
    "## Fundamental Factor Analysis \n",
    "\n",
    "Many different fundamental-specific factors can influence the return to any individual stock. This research will show how to find significant factors to explain the stocks return and build the multi-factor model."
   ]
  },
  {
   "cell_type": "code",
   "execution_count": 4,
   "metadata": {},
   "source": [
    "%matplotlib inline\n",
    "from clr import AddReference\n",
    "AddReference(\"System\")\n",
    "AddReference(\"QuantConnect.Common\")\n",
    "AddReference(\"QuantConnect.Jupyter\")\n",
    "AddReference(\"QuantConnect.Indicators\")\n",
    "from System import *\n",
    "from QuantConnect import *\n",
    "from QuantConnect.Data.Market import TradeBar, QuoteBar\n",
    "from QuantConnect.Jupyter import *\n",
    "from QuantConnect.Indicators import *\n",
    "from datetime import datetime, timedelta\n",
    "import matplotlib.pyplot as plt\n",
    "import pandas as pd\n",
    "import numpy as np\n",
    "from datetime import date, timedelta\n",
    "from calendar import monthrange \n",
    "# Create an instance\n",
    "qb = QuantBook()"
   ],
   "outputs": []
  },
  {
   "cell_type": "markdown",
   "metadata": {
    "collapsed": true
   },
   "source": [
    "### 1. Choose a basket of symbols as our universe sample \n",
    "- Here we choose 100 stocks from over 8000 quantconnect universe which have fundamental data. Those symbols are chosen at 2011-01-01.\n",
    "- First, we sort the stocks by daily dollar volume and take the top stocks with the highest dollar volumes as our candidates. This step can be done by using QuantConnect backtest universe selection API."
   ]
  },
  {
   "cell_type": "code",
   "execution_count": 5,
   "metadata": {},
   "source": [
    "symbols = [u'AAPL', u'C', u'XOM', u'JPM', u'GOOG', u'MSFT', u'LVS', u'INTC', u'AMZN', \n",
    "           u'CSCO', u'F', u'WFC', u'NFLX', u'FCX', u'QCOM', u'PBR', u'GS', u'JNJ', u'WMT',\n",
    "           u'VALE', u'HPQ', u'GE', u'CVX', u'ORCL', u'IBM', u'POT', u'BIDU', u'MRK', u'PG', u'VZ',\n",
    "           u'KO', u'PCLN', u'MS', u'BP', u'CMCSA', u'MCD', u'PFE', u'T', u'COP', u'CAT', \n",
    "           u'SLB', u'MA', u'BA', u'DTV', u'APC', u'V', u'MOS', u'PEP', u'EBAY', u'NEM', u'NTAP',\n",
    "           u'AMGN', u'WYNN', u'CRM', u'CLX', u'S', u'ABX', u'OXY', u'ABT', u'TEVA', u'USB', u'FFIV', \n",
    "           u'GILD', u'MON', u'NVDA', u'SLW', u'HAL', u'AXP', u'MGM', u'TGT', u'MU', u'UPS', u'BTU',\n",
    "           u'EXPE', u'CLF', u'CNX', u'ESRX', u'PM', u'MET', u'CMG', u'CF', u'UNH', u'BBY', u'CHK',\n",
    "           u'COST', u'RIG', u'AIG', u'EMR', u'CME', u'CVS', u'DIS', u'CL', u'UNP', u'DE', u'DD',\n",
    "           u'NOV', u'HD']\n",
    "symbols.sort()"
   ],
   "outputs": []
  },
  {
   "cell_type": "code",
   "execution_count": 6,
   "metadata": {
    "scrolled": true
   },
   "source": [
    "start_date = datetime(2011,1,1)\n",
    "end_date = datetime.now()\n",
    "num_stocks = 45 # should be less than len(symbols)\n",
    "num_ports = 5"
   ],
   "outputs": []
  },
  {
   "cell_type": "markdown",
   "metadata": {},
   "source": [
    "### 2. Get Fundamental Data\n",
    "\n",
    "- *GetFundamental([symbol], selector, start_date = datetime(1998,1,1), end_date = datetime.now())*\n",
    "\n",
    "We will get a pandas.DataFrame indexed by the date."
   ]
  },
  {
   "cell_type": "code",
   "execution_count": 5,
   "metadata": {},
   "source": [
    "data = qb.GetFundamental(symbols, \"ValuationRatios.PERatio\", start_date, end_date)"
   ],
   "outputs": []
  },
  {
   "cell_type": "code",
   "execution_count": 6,
   "metadata": {},
   "source": [
    "df = data\n",
    "# fill the NaN with the forward data \n",
    "# drop the NaN rows \n",
    "# transpose the dataframe with the symbol index\n",
    "df = df.fillna(method='ffill').dropna().T\n",
    "df.index= symbols # change index to symbol names\n",
    "# remove the stocks if there are zero values\n",
    "df = df[~(df == 0).any(axis=1)][:num_stocks]\n",
    "# change columns name to date type\n",
    "df.columns =[i.date() for i in df.columns]"
   ],
   "outputs": []
  },
  {
   "cell_type": "code",
   "execution_count": 7,
   "metadata": {
    "scrolled": false
   },
   "source": [
    "drop_columns = []\n",
    "for i in range(len(df.columns)):\n",
    "    date = df.columns[i]\n",
    "    end_day_of_month = date.replace(day=monthrange(date.year, date.month)[1])\n",
    "    if date != end_day_of_month:\n",
    "        drop_columns.append(df.columns[i])\n",
    "# drop columns if it is not the last day of the month        \n",
    "df = df.drop(drop_columns, axis=1)"
   ],
   "outputs": []
  },
  {
   "cell_type": "markdown",
   "metadata": {
    "collapsed": true
   },
   "source": [
    "### 3. Get History Close Price\n",
    "We can use the QuantConnect API to make Historical Data Requests. The data will be presented as multi-index pandas.DataFrame where the first index is the Symbol."
   ]
  },
  {
   "cell_type": "code",
   "execution_count": 8,
   "metadata": {},
   "source": [
    "# create a dictionary keyed by symbols, valued by a list of history close\n",
    "# add the benchmark \"SPY\"\n",
    "hist = {}\n",
    "sym_list = list(df.index)\n",
    "sym_list.append(u'SPY')\n",
    "for symbol in sym_list:    \n",
    "    qb.AddEquity(symbol) \n",
    "    history = qb.History([symbol], start_date, end_date, Resolution.Daily).loc[symbol][\"close\"]\n",
    "    hist[symbol] = history"
   ],
   "outputs": []
  },
  {
   "cell_type": "markdown",
   "metadata": {},
   "source": [
    "### 4. Compute the monthly return of portfolios \n",
    "- We extract the factor values of candidate stock at the beginning of each month and On each month , we sort the stocks in ascending order for their factor values , get a list of sorted symbols. \n",
    "- At the end of each month , we extract the one-month history close prices of each stock and compute the monthly returns . \n",
    "- Divide the stocks into 5 portfolios and compute the average monthly returns to each portfolio . Then we add the monthly return of benchmark \" SPY \" at the last line of the data frame of portfolio monthly returns.\n"
   ]
  },
  {
   "cell_type": "code",
   "execution_count": 9,
   "metadata": {},
   "source": [
    "def port_monthly_return(syls, month_date):\n",
    "    # syls(list): symbols\n",
    "    # month_date(datetime.date): date for calculate the monthly return\n",
    "    # return value: a list of average return for each portfolio\n",
    "    num_each_port = int(num_stocks/float(num_ports))\n",
    "    port_ret = []\n",
    "    for i in range(num_ports):\n",
    "        sum_ret = 0  # the sum of return in one portfolio\n",
    "        for j in range(i*num_each_port,(i+1)*num_each_port):\n",
    "            price = hist[syls[j]].to_frame()[month_date.strftime(\"%Y-%m\")]\n",
    "            sum_ret += (price.iloc[-1] - price.iloc[0]) / price.iloc[0]\n",
    "        port_ret.append(np.mean(sum_ret)) \n",
    "    # add monthly return of \"SPY\" to the end of the list\n",
    "    hist_benchmark = hist[syls[-1]].to_frame()[month_date.strftime(\"%Y-%m\")]\n",
    "    res_benchmark = (hist_benchmark.iloc[-1] - hist_benchmark.iloc[0]) / hist_benchmark.iloc[0]\n",
    "    port_ret.append(res_benchmark[0])\n",
    "    return port_ret"
   ],
   "outputs": []
  },
  {
   "cell_type": "code",
   "execution_count": 10,
   "metadata": {},
   "source": [
    "ret = []\n",
    "for i in range(len(df.columns)):\n",
    "    ranked_syls = df.sort_values(df.columns[i]).index  \n",
    "    ret.append(port_monthly_return(ranked_syls,df.columns[i]))\n",
    "df_return = pd.DataFrame(ret, index = df.columns)"
   ],
   "outputs": []
  },
  {
   "cell_type": "code",
   "execution_count": 11,
   "metadata": {},
   "source": [
    "# plot the cumulative return for five portfolios and the benchmark\n",
    "plt.figure(figsize =(15,7))\n",
    "for i in range(num_ports):\n",
    "    plt.plot(df_return.cumsum()[i], label = 'port%d'%(i+1))\n",
    "plt.plot(df_return.cumsum()[num_ports], label = 'benchmark', linestyle='--', color='b', linewidth=2)\n",
    "plt.xlabel('Portfolio Return: factor PE ratio', fontsize=12)\n",
    "plt.legend(loc=0)"
   ],
   "outputs": []
  },
  {
   "cell_type": "markdown",
   "metadata": {},
   "source": [
    "### 5. Generate the metrics to test the factor significance\n",
    "After getting the monthly returns of portfolios and the benchmark, we compute the average annual return and excess return over benchmark of each portfolio across the whole backtesting period. Then We generate metrics to judge the significance of each factor."
   ]
  },
  {
   "cell_type": "code",
   "execution_count": 12,
   "metadata": {},
   "source": [
    "total_return = {}\n",
    "annual_return = {}\n",
    "excess_return = {}\n",
    "win_prob = {}\n",
    "loss_prob = {}\n",
    "effect_test = {}\n",
    "MinCorr = 0.3\n",
    "Minbottom = -0.05\n",
    "Mintop = 0.05\n",
    "effect_test = {}\n",
    "total_return = (df_return+1).cumprod().iloc[-1,:]-1\n",
    "for i in range(len(total_return)):\n",
    "    if total_return.iloc[i]<-1:\n",
    "        total_return.iloc[i] = -0.99999\n",
    "num_years = len(df_return)/12.0\n",
    "annual_return = (total_return+1)**(12.0/len(df_return))-1\n",
    "excess_return = list(annual_return - annual_return.iloc[-1])"
   ],
   "outputs": []
  },
  {
   "cell_type": "markdown",
   "metadata": {},
   "source": [
    "### Metrics 1:\n",
    "The correlation between the portfolio' returns and their rank. The higher the absolute value of the correlation coefficient, the more significant of the factor.\n",
    "\n",
    "### Metrics 2:\n",
    "If the return of the rank first portfolio larger than the portfolio at the bottom of the return rankings, we define it as the winning portfolio and the loss portfolio and vice versa. The win probability is the probability that the win portfolio return outperform the benchmark return. The loss probability is the probability that the loss portfolio return underperform the benchmark.  the higher the win and loss probability, the more significant of the factor \n",
    "\n",
    "### Metrics 3:\n",
    "The excess return of the winning portfolio should be greater than 0.25, while the excess return of loss portfolio should be lower than 0.0"
   ]
  },
  {
   "cell_type": "code",
   "execution_count": 13,
   "metadata": {},
   "source": [
    "result =[]\n",
    "correlation = np.corrcoef(annual_return[:num_ports],[i+1 for i in range(num_ports)])[0][1]\n",
    "result.append(correlation)"
   ],
   "outputs": []
  },
  {
   "cell_type": "code",
   "execution_count": 14,
   "metadata": {},
   "source": [
    "if total_return.iloc[0]<total_return.iloc[-2]:\n",
    "    loss_excess = df_return.iloc[:,0]-df_return.iloc[:,-1]\n",
    "    loss_prob = loss_excess[loss_excess<0].count()/float(len(loss_excess))\n",
    "    win_excess = df_return.iloc[:,-2]-df_return.iloc[:,-1]\n",
    "    win_prob = win_excess[win_excess>0].count()/float(len(win_excess))\n",
    "    result.append(loss_prob)\n",
    "    result.append(win_prob)\n",
    "    \n",
    "    excess_return_win = excess_return[-2]\n",
    "    excess_return_loss = excess_return[0]\n",
    "    result.append(excess_return_win)\n",
    "    result.append(excess_return_loss)    \n",
    "    \n",
    "elif total_return.iloc[0]>total_return.iloc[-2]:\n",
    "    loss_excess = df_return.iloc[:,-2]-df_return.iloc[:,-1]\n",
    "    loss_prob = loss_excess[loss_excess<0].count()/float(len(loss_excess))\n",
    "    win_excess = df_return.iloc[:,0]-df_return.iloc[:,-1]\n",
    "    win_prob = win_excess[win_excess>0].count()/float(len(win_excess))\n",
    "    result.append(loss_prob)\n",
    "    result.append(win_prob)\n",
    "    \n",
    "    excess_return_win = excess_return[0]\n",
    "    excess_return_loss = excess_return[-2]\n",
    "    result.append(excess_return_win)\n",
    "    result.append(excess_return_loss)    "
   ],
   "outputs": []
  },
  {
   "cell_type": "code",
   "execution_count": 15,
   "metadata": {},
   "source": [
    "result"
   ],
   "outputs": []
  },
  {
   "cell_type": "markdown",
   "metadata": {},
   "source": [
    "## Test the Significance of Multiple Factors\n",
    "Next, we test the significance of multiple factors to detect the effective factors. Here I choose 8 factors in Valuation Ratios. More factors like earning ratios, OperationRatios and other factors in financial statements can be found here https://www.quantconnect.com/data#fundamentals/usa/morningstar"
   ]
  },
  {
   "cell_type": "code",
   "execution_count": 16,
   "metadata": {},
   "source": [
    "factors = [\"ValuationRatios.PERatio\", \"ValuationRatios.BookValuePerShare\", \n",
    "           \"ValuationRatios.FCFYield\", \"ValuationRatios.BookValueYield\",\n",
    "           \"ValuationRatios.PricetoEBITDA\",\"ValuationRatios.EVToEBITDA\",\n",
    "           \"ValuationRatios.TrailingDividendYield\",\"ValuationRatios.PriceChange1M\"]"
   ],
   "outputs": []
  },
  {
   "cell_type": "code",
   "execution_count": 17,
   "metadata": {
    "scrolled": false
   },
   "source": [
    "factor_test = {}\n",
    "for factor_name in factors:\n",
    "    \n",
    "    data = qb.GetFundamental(symbols, factor_name, start_date, end_date)\n",
    "    df = data\n",
    "    # fill the NaN with the forward data \n",
    "    # drop the NaN rows\n",
    "    # transpose the dataframe with the symbol index\n",
    "    df = df.fillna(method='ffill').dropna().T\n",
    "    df.index= symbols # change index to symbol names\n",
    "    # remove the stocks if there are zero values\n",
    "    df = df[~(df == 0).any(axis=1)][:num_stocks]\n",
    "    # change columns name to date type\n",
    "    df.columns =[i.date() for i in df.columns]\n",
    "\n",
    "    \n",
    "    drop_columns = []\n",
    "    for i in range(len(df.columns)):\n",
    "        date = df.columns[i]\n",
    "        end_day_of_month = date.replace(day=monthrange(date.year, date.month)[1])\n",
    "        if date != end_day_of_month:\n",
    "            drop_columns.append(df.columns[i])\n",
    "    # drop columns if it is not the last day of the month        \n",
    "    df = df.drop(drop_columns, axis=1)\n",
    "    \n",
    "    # create a dictionary keyed by symbols, valued by a list of history close\n",
    "    # add the benchmark \"SPY\"\n",
    "    hist = {}\n",
    "    sym_list = list(df.index)\n",
    "    sym_list.append(u'SPY')\n",
    "    for symbol in sym_list:    \n",
    "        qb.AddEquity(symbol) \n",
    "        history = qb.History([symbol], start_date, end_date, Resolution.Daily).loc[symbol][\"close\"]\n",
    "        hist[symbol] = history\n",
    "    \n",
    "\n",
    "    ret = []\n",
    "    for i in range(len(df.columns)):\n",
    "        ranked_syls = df.sort_values(df.columns[i]).index  \n",
    "        ret.append(port_monthly_return(ranked_syls,df.columns[i]))\n",
    "    df_return = pd.DataFrame(ret, index = df.columns)\n",
    "    \n",
    "    \n",
    "    # plot the cumulative return for five portfolios and the benchmark\n",
    "    plt.figure(figsize =(13,6))\n",
    "    for i in range(num_ports):\n",
    "        plt.plot(df_return.cumsum()[i], label = 'port%d'%(i+1))\n",
    "    plt.plot(df_return.cumsum()[num_ports], label = 'benchmark', linestyle='--', color='b', linewidth=2)\n",
    "    plt.xlabel('Portfolio Return: factor %s'%factor_name, fontsize=12)\n",
    "    plt.legend(loc=0)\n",
    " \n",
    "\n",
    "    total_return = (df_return+1).cumprod().iloc[-1,:]-1\n",
    "    for i in range(len(total_return)):\n",
    "        if total_return.iloc[i]<-1:\n",
    "            total_return.iloc[i] = -0.99999\n",
    "    num_years = len(df_return)/12.0\n",
    "    annual_return = (total_return+1)**(12.0/len(df_return))-1\n",
    "    excess_return = list(annual_return - annual_return.iloc[-1])\n",
    "    \n",
    "    \n",
    "    result =[]\n",
    "    correlation = np.corrcoef(annual_return[:num_ports],[i+1 for i in range(num_ports)])[0][1]\n",
    "    result.append(correlation)\n",
    "    \n",
    "    if total_return.iloc[0]<total_return.iloc[-2]:\n",
    "        loss_excess = df_return.iloc[:,0]-df_return.iloc[:,-1]\n",
    "        loss_prob = loss_excess[loss_excess<0].count()/float(len(loss_excess))\n",
    "        win_excess = df_return.iloc[:,-2]-df_return.iloc[:,-1]\n",
    "        win_prob = win_excess[win_excess>0].count()/float(len(win_excess))\n",
    "        result.append(loss_prob)\n",
    "        result.append(win_prob)\n",
    "\n",
    "        excess_return_win = excess_return[-2]\n",
    "        excess_return_loss = excess_return[0]\n",
    "        result.append(excess_return_win)\n",
    "        result.append(excess_return_loss)    \n",
    "    \n",
    "    elif total_return.iloc[0]>total_return.iloc[-2]:\n",
    "        loss_excess = df_return.iloc[:,-2]-df_return.iloc[:,-1]\n",
    "        loss_prob = loss_excess[loss_excess<0].count()/float(len(loss_excess))\n",
    "        win_excess = df_return.iloc[:,0]-df_return.iloc[:,-1]\n",
    "        win_prob = win_excess[win_excess>0].count()/float(len(win_excess))\n",
    "        result.append(loss_prob)\n",
    "        result.append(win_prob)\n",
    "\n",
    "        excess_return_win = excess_return[0]\n",
    "        excess_return_loss = excess_return[-2]\n",
    "        result.append(excess_return_win)\n",
    "        result.append(excess_return_loss) \n",
    "    \n",
    "    factor_test[factor_name] = result"
   ],
   "outputs": []
  },
  {
   "cell_type": "code",
   "execution_count": 18,
   "metadata": {},
   "source": [
    "pd.DataFrame(factor_test, \n",
    "             index = ['correlation','loss probability','win probability',\n",
    "                      'excess return(win)','excess return(loss)'])"
   ],
   "outputs": []
  },
  {
   "cell_type": "markdown",
   "metadata": {},
   "source": [
    "#### Conclusion\n",
    "- From the above plot and the factor tests statistics, among all these factors, BookValueYield and PE Ratio the most significant one that can explain the return. But BookValueYield is negatively correlated with the stock return but PE Ratio is positively correlated with return. \n",
    "- For example BookValueYield, the correlation is negative, but the absolute value is high. Both the loss probability and the win probability are over 0.5. The excess return for win portfolio is positive and the excess return for loss portfolio is negative. \n",
    "- In the future research, we can test more factors and pick the significant ones as independent variables in multi-factor models. Or in long/short strategies, rank the stocks according to those significant factors to generate the positive returns.\n"
   ]
  }
 ],
 "metadata": {
  "kernelspec": {
   "display_name": "Python 3",
   "language": "python",
   "name": "python3"
  },
  "language_info": {
   "codemirror_mode": {
    "name": "ipython",
    "version": 3
   },
   "file_extension": ".py",
   "mimetype": "text/x-python",
   "name": "python",
   "nbconvert_exporter": "python",
   "pygments_lexer": "ipython3",
   "version": "3.6.4"
  }
 },
 "nbformat": 4,
 "nbformat_minor": 2
}
